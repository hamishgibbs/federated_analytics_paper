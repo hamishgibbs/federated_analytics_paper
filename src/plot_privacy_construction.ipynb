{
 "cells": [
  {
   "cell_type": "code",
   "execution_count": 382,
   "metadata": {},
   "outputs": [],
   "source": [
    "import numpy as np\n",
    "from plotnine import *\n",
    "import pandas as pd\n",
    "import patchworklib as pw\n",
    "\n",
    "_args = [\n",
    "    \"../output/analytics/base_analytics/departure-diffusion_exp/base_analytics_2019_01_01.csv\",\n",
    "    \"../output/analytics/k_anonymous/departure-diffusion_exp/k_anonymous_analytics_2019_01_01.csv\",\n",
    "    \"../output/analytics/gdp/departure-diffusion_exp/gdp_analytics_2019_01_01.csv\",\n",
    "    \"../output/analytics/naive_ldp/departure-diffusion_exp/naive_ldp_analytics_2019_01_01.csv\",\n",
    "    \"../output/analytics/cms/departure-diffusion_exp/cms_analytics_2019_01_01.csv\"\n",
    "    \"\"\n",
    "]"
   ]
  },
  {
   "cell_type": "code",
   "execution_count": 383,
   "metadata": {},
   "outputs": [],
   "source": [
    "base = pd.read_csv(_args[0], dtype={'geoid_o': str, 'geoid_d': str})\n",
    "k_anonymous = pd.read_csv(_args[1], dtype={'geoid_o': str, 'geoid_d': str}).rename(columns={'count': 'count_k_anonymous'})\n",
    "gdp = pd.read_csv(_args[2], dtype={'geoid_o': str, 'geoid_d': str}).rename(columns={'count': 'count_gdp'})\n",
    "ldp = pd.read_csv(_args[3], dtype={'geoid_o': str, 'geoid_d': str}).rename(columns={'count': 'count_ldp'})\n",
    "cms = pd.read_csv(_args[4], dtype={'geoid_o': str, 'geoid_d': str}).rename(columns={'count': 'count_cms'})\n",
    "\n",
    "# truncate negative values to 0\n",
    "gdp['count_gdp'] = gdp['count_gdp'].clip(lower=0)\n",
    "ldp['count_ldp'] = ldp['count_ldp'].clip(lower=0)\n",
    "cms['count_cms'] = cms['count_cms'].clip(lower=0)"
   ]
  },
  {
   "cell_type": "code",
   "execution_count": 384,
   "metadata": {},
   "outputs": [],
   "source": [
    "base.sort_values(by='count', inplace=True, ascending=False)\n",
    "base['id'] = range(1, base.shape[0] + 1)"
   ]
  },
  {
   "cell_type": "code",
   "execution_count": 385,
   "metadata": {},
   "outputs": [],
   "source": [
    "base = pd.merge(base, k_anonymous, on=['geoid_o', 'geoid_d'], how='left',  validate='one_to_one')\n",
    "base = pd.merge(base, gdp, on=['geoid_o', 'geoid_d'], how='left',  validate='one_to_one')\n",
    "base = pd.merge(base, ldp, on=['geoid_o', 'geoid_d'], how='left',  validate='one_to_one')\n",
    "base = pd.merge(base, cms, on=['geoid_o', 'geoid_d'], how='left',  validate='one_to_one')"
   ]
  },
  {
   "cell_type": "code",
   "execution_count": 386,
   "metadata": {},
   "outputs": [],
   "source": [
    "base_long = pd.melt(base, id_vars=['id', 'geoid_o', 'geoid_d', 'count'], value_vars=['count_k_anonymous', 'count_gdp', 'count_ldp', 'count_cms'], var_name='mechanism')"
   ]
  },
  {
   "cell_type": "code",
   "execution_count": 387,
   "metadata": {},
   "outputs": [],
   "source": [
    "start_exp=0\n",
    "max_value = base_long['value'].max(skipna=True)\n",
    "end_exp = np.log10(max_value) \n",
    "\n",
    "pa = (ggplot(base_long.loc[base_long['mechanism'] == 'count_k_anonymous']) + \n",
    " geom_point(aes(x='id', y='count'), color='blue', size=0.1) + \n",
    " geom_point(aes(x='id', y='value'), color='red', size=0.1) + \n",
    " geom_hline(yintercept=10, color='black', linetype='dashed') +\n",
    " scale_y_continuous(trans='pseudo_log', limits=[base_long['value'].min(skipna=True), base_long['value'].max(skipna=True)],\n",
    "                    breaks = [0] + [10**x for x in range(0, int(end_exp)+2)]) + \n",
    " scale_x_continuous(trans='pseudo_log') + \n",
    " labs(x = \"Origin-destination pair\",\n",
    "      y = \"Number of trips\") + \n",
    "    theme_classic() + \n",
    "    theme(axis_text_x=element_blank(),\n",
    "          axis_ticks_major_x=element_blank())\n",
    ")"
   ]
  },
  {
   "cell_type": "code",
   "execution_count": 391,
   "metadata": {},
   "outputs": [],
   "source": [
    "def plot_privacy(data, mechanism, ymin):\n",
    "\n",
    "    return (ggplot(data.loc[base_long['mechanism'] == mechanism]) + \n",
    "        geom_point(aes(x='id', y='value'), color='red', size=0.1) + \n",
    "        geom_point(aes(x='id', y='count'), color='blue', size=0.1) + \n",
    "        scale_y_continuous(trans='pseudo_log', limits=[ymin, base_long['value'].max(skipna=True)],\n",
    "                           breaks = [0] + [10**x for x in range(0, int(end_exp)+2)]) + \n",
    "        scale_x_continuous(trans='pseudo_log') + \n",
    "        labs(x = \"Origin-destination pair\",\n",
    "            y = \"Number of trips\") + \n",
    "            theme_classic() + \n",
    "            theme(axis_text_x=element_blank(),\n",
    "                axis_ticks_major_x=element_blank())\n",
    "        )"
   ]
  },
  {
   "cell_type": "code",
   "execution_count": 392,
   "metadata": {},
   "outputs": [],
   "source": [
    "pb = plot_privacy(base_long, 'count_gdp', ymin=0)\n",
    "pc = plot_privacy(base_long, 'count_ldp', ymin=0)\n",
    "pd = plot_privacy(base_long, 'count_cms', ymin=0)"
   ]
  },
  {
   "cell_type": "code",
   "execution_count": 400,
   "metadata": {},
   "outputs": [],
   "source": [
    "trunc_thresh = 100\n",
    "pb_trunc = plot_privacy(base_long.loc[base_long['count'] > trunc_thresh], 'count_gdp', ymin=trunc_thresh)\n",
    "pc_trunc = plot_privacy(base_long.loc[base_long['count'] > trunc_thresh], 'count_ldp', ymin=trunc_thresh)\n",
    "pd_trunc = plot_privacy(base_long.loc[base_long['count'] > trunc_thresh], 'count_cms', ymin=trunc_thresh)"
   ]
  },
  {
   "cell_type": "code",
   "execution_count": 401,
   "metadata": {},
   "outputs": [],
   "source": [
    "width = 7\n",
    "height = 4\n",
    "pa.save('../output/figs/k_anonymity_construction.png', width=width, height=height, dpi=300)\n",
    "pb.save('../output/figs/gdp_construction.png', width=width, height=height, dpi=300)\n",
    "pc.save('../output/figs/naive_ldp_construction.png', width=width, height=height, dpi=300)\n",
    "pd.save('../output/figs/cms_construction.png', width=width, height=height, dpi=300)\n",
    "\n",
    "pb_trunc.save('../output/figs/gdp_construction_trunc.png', width=width, height=height, dpi=300)\n",
    "pc_trunc.save('../output/figs/naive_ldp_construction_trunc.png', width=width, height=height, dpi=300)\n",
    "pd_trunc.save('../output/figs/cms_construction_trunc.png', width=width, height=height, dpi=300)\n"
   ]
  },
  {
   "cell_type": "code",
   "execution_count": null,
   "metadata": {},
   "outputs": [],
   "source": []
  },
  {
   "cell_type": "code",
   "execution_count": null,
   "metadata": {},
   "outputs": [],
   "source": []
  }
 ],
 "metadata": {
  "kernelspec": {
   "display_name": "Python 3",
   "language": "python",
   "name": "python3"
  },
  "language_info": {
   "codemirror_mode": {
    "name": "ipython",
    "version": 3
   },
   "file_extension": ".py",
   "mimetype": "text/x-python",
   "name": "python",
   "nbconvert_exporter": "python",
   "pygments_lexer": "ipython3",
   "version": "3.9.10"
  }
 },
 "nbformat": 4,
 "nbformat_minor": 2
}
